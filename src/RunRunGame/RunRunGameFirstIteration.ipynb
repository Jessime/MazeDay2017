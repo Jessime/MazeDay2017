{
 "cells": [
  {
   "cell_type": "code",
   "execution_count": 4,
   "metadata": {
    "collapsed": false
   },
   "outputs": [
    {
     "name": "stdout",
     "output_type": "stream",
     "text": [
      "19\n"
     ]
    },
    {
     "ename": "AttributeError",
     "evalue": "module 'pygame' has no attribute 'KEYRIGHT'",
     "output_type": "error",
     "traceback": [
      "\u001b[0;31m---------------------------------------------------------------------------\u001b[0m",
      "\u001b[0;31mAttributeError\u001b[0m                            Traceback (most recent call last)",
      "\u001b[0;32m<ipython-input-4-5a092a47dea6>\u001b[0m in \u001b[0;36m<module>\u001b[0;34m()\u001b[0m\n\u001b[1;32m     23\u001b[0m     \u001b[0;31m#Handling User input\u001b[0m\u001b[0;34m\u001b[0m\u001b[0;34m\u001b[0m\u001b[0m\n\u001b[1;32m     24\u001b[0m     \u001b[0;32mfor\u001b[0m \u001b[0mevent\u001b[0m \u001b[0;32min\u001b[0m \u001b[0mpygame\u001b[0m\u001b[0;34m.\u001b[0m\u001b[0mevent\u001b[0m\u001b[0;34m.\u001b[0m\u001b[0mget\u001b[0m\u001b[0;34m(\u001b[0m\u001b[0;34m)\u001b[0m\u001b[0;34m:\u001b[0m\u001b[0;34m\u001b[0m\u001b[0m\n\u001b[0;32m---> 25\u001b[0;31m         \u001b[0;32mif\u001b[0m \u001b[0mevent\u001b[0m\u001b[0;34m.\u001b[0m\u001b[0mtype\u001b[0m \u001b[0;34m==\u001b[0m \u001b[0mpygame\u001b[0m\u001b[0;34m.\u001b[0m\u001b[0mKEYRIGHT\u001b[0m \u001b[0;32mand\u001b[0m \u001b[0mself\u001b[0m\u001b[0;34m.\u001b[0m\u001b[0mposition\u001b[0m \u001b[0;34m!=\u001b[0m \u001b[0;34m\"Right\"\u001b[0m\u001b[0;34m:\u001b[0m\u001b[0;34m\u001b[0m\u001b[0m\n\u001b[0m\u001b[1;32m     26\u001b[0m             \u001b[0;32mif\u001b[0m \u001b[0mevent\u001b[0m\u001b[0;34m.\u001b[0m\u001b[0mtype\u001b[0m \u001b[0;34m==\u001b[0m \u001b[0mpygame\u001b[0m\u001b[0;34m.\u001b[0m\u001b[0mKEYDOWN\u001b[0m\u001b[0;34m:\u001b[0m\u001b[0;34m\u001b[0m\u001b[0m\n\u001b[1;32m     27\u001b[0m                 \u001b[0;32mif\u001b[0m \u001b[0mCar\u001b[0m\u001b[0;34m.\u001b[0m\u001b[0mposition\u001b[0m \u001b[0;34m==\u001b[0m \u001b[0;34m\"Center\"\u001b[0m\u001b[0;34m:\u001b[0m\u001b[0;34m\u001b[0m\u001b[0m\n",
      "\u001b[0;31mAttributeError\u001b[0m: module 'pygame' has no attribute 'KEYRIGHT'"
     ]
    }
   ],
   "source": [
    "import pygame\n",
    "from random import randint\n",
    "screen = pygame.display.set_mode((1024, 768))\n",
    "clock = pygame.time.Clock()\n",
    "FPS = 30\n",
    "\n",
    "#Initialize sounds\n",
    "#Initialize pictures\n",
    "\n",
    "class Car(object):\n",
    "    def __init__(self, image, position):\n",
    "        #self.image = image file here dots dots\n",
    "        self.position = position\n",
    "        \n",
    "\n",
    "#This is for distance travelled. Once distance travelled equals the level distance, the level will finish.\n",
    "Distance = 0\n",
    "Race_distance = randint(10,20)\n",
    "print(Race_distance)\n",
    "        \n",
    "while True:\n",
    "    \n",
    "    #Handling User input\n",
    "    for event in pygame.event.get():\n",
    "        if event.type == pygame.K_RIGHT and Car.position != \"Right\":\n",
    "            if Car.position == \"Center\":\n",
    "                Car.position = \"Right\"\n",
    "                #Play directional sound\n",
    "                print(Car.position)\n",
    "            elif Car.position ==\"Left\":\n",
    "                Car.position = \"Center\"\n",
    "                #Play directional sound\n",
    "                print(Car.position)\n",
    "        elif event.type == pygame.K_LEFT and Car.position != \"Left\":\n",
    "            if Car.position == \"Center\":\n",
    "                Car.position = \"Left\"\n",
    "            elif Car.position == \"Right\":\n",
    "                Car.position = \"Center\"\n",
    "        elif event.type == pygame.K_ESCAPE:\n",
    "            pygame.quit()\n",
    "        elif Distance == Race_distance:\n",
    "            break\n",
    "        Distance += 1\n",
    "    \n",
    "    \n",
    "    \n",
    "            \n",
    "            \n",
    "    \n"
   ]
  },
  {
   "cell_type": "code",
   "execution_count": null,
   "metadata": {
    "collapsed": true
   },
   "outputs": [],
   "source": []
  }
 ],
 "metadata": {
  "anaconda-cloud": {},
  "kernelspec": {
   "display_name": "Python [Root]",
   "language": "python",
   "name": "Python [Root]"
  },
  "language_info": {
   "codemirror_mode": {
    "name": "ipython",
    "version": 3
   },
   "file_extension": ".py",
   "mimetype": "text/x-python",
   "name": "python",
   "nbconvert_exporter": "python",
   "pygments_lexer": "ipython3",
   "version": "3.5.2"
  }
 },
 "nbformat": 4,
 "nbformat_minor": 0
}
